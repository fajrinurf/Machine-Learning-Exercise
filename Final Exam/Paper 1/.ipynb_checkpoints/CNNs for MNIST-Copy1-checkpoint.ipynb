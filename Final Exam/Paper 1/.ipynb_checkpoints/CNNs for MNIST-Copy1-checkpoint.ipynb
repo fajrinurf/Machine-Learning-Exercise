{
 "cells": [
  {
   "cell_type": "markdown",
   "id": "05c5f9d1-5237-4e1a-b7f5-752f67b64ab3",
   "metadata": {},
   "source": [
    "# CNNs fo MNIST"
   ]
  },
  {
   "cell_type": "code",
   "execution_count": 27,
   "id": "dbdc8cb5-2153-4afe-87be-dfacbda05f46",
   "metadata": {},
   "outputs": [],
   "source": [
    "import torch\n",
    "import torchvision"
   ]
  },
  {
   "cell_type": "code",
   "execution_count": 28,
   "id": "14c36f47-8fb1-443a-9bfe-1387c977f176",
   "metadata": {},
   "outputs": [
    {
     "data": {
      "text/plain": [
       "<torch._C.Generator at 0x18b4daab8b0>"
      ]
     },
     "execution_count": 28,
     "metadata": {},
     "output_type": "execute_result"
    }
   ],
   "source": [
    "n_epochs = 3\n",
    "batch_size_train = 64\n",
    "batch_size_test = 1000\n",
    "learning_rate = 0.01\n",
    "momentum = 0.5\n",
    "log_interval = 10\n",
    "random_seed = 1\n",
    "torch.backends.cudnn.enabled = False\n",
    "torch.manual_seed(random_seed)"
   ]
  },
  {
   "cell_type": "code",
   "execution_count": 29,
   "id": "3aeda597-7e65-4089-ab3b-11d7d1e81d0f",
   "metadata": {},
   "outputs": [],
   "source": [
    "train_loader = torch.utils.data.DataLoader(\n",
    "  torchvision.datasets.MNIST('/files/', train=True, download=True,\n",
    "                             transform=torchvision.transforms.Compose([\n",
    "                               torchvision.transforms.ToTensor(),\n",
    "                               torchvision.transforms.Normalize(\n",
    "                                 (0.1307,), (0.3081,))\n",
    "                             ])),\n",
    "  batch_size=batch_size_train, shuffle=True)\n",
    "test_loader = torch.utils.data.DataLoader(\n",
    "  torchvision.datasets.MNIST('/files/', train=False, download=True,\n",
    "                             transform=torchvision.transforms.Compose([\n",
    "                               torchvision.transforms.ToTensor(),\n",
    "                               torchvision.transforms.Normalize(\n",
    "                                 (0.1307,), (0.3081,))\n",
    "                             ])),\n",
    "  batch_size=batch_size_test, shuffle=True)"
   ]
  },
  {
   "cell_type": "code",
   "execution_count": 30,
   "id": "07c147f2-78b9-4c6a-a394-096b6421bc10",
   "metadata": {},
   "outputs": [],
   "source": [
    "examples = enumerate(test_loader)\n",
    "batch_idx, (example_data, example_targets) = next(examples)"
   ]
  },
  {
   "cell_type": "code",
   "execution_count": 31,
   "id": "cd4ad5e4-617d-4c70-bf28-1795bb705374",
   "metadata": {},
   "outputs": [
    {
     "data": {
      "text/plain": [
       "torch.Size([1000, 1, 28, 28])"
      ]
     },
     "execution_count": 31,
     "metadata": {},
     "output_type": "execute_result"
    }
   ],
   "source": [
    "example_data.shape"
   ]
  },
  {
   "cell_type": "code",
   "execution_count": 32,
   "id": "5c6a2a8b-4ba2-4bb8-83b8-21fbbca82c1b",
   "metadata": {},
   "outputs": [
    {
     "data": {
      "image/png": "[encoded data removed]",
      "text/plain": [
       "<Figure size 432x288 with 6 Axes>"
      ]
     },
     "execution_count": 32,
     "metadata": {},
     "output_type": "execute_result"
    },
    {
     "data": {
      "image/png": "[encoded data removed]",
      "text/plain": [
       "<Figure size 432x288 with 6 Axes>"
      ]
     },
     "metadata": {},
     "output_type": "display_data"
    }
   ],
   "source": [
    "import matplotlib.pyplot as plt\n",
    "fig = plt.figure()\n",
    "for i in range(6):\n",
    "  plt.subplot(2,3,i+1)\n",
    "  plt.tight_layout()\n",
    "  plt.imshow(example_data[i][0], cmap='gray', interpolation='none')\n",
    "  plt.title(\"Ground Truth: {}\".format(example_targets[i]))\n",
    "  plt.xticks([])\n",
    "  plt.yticks([])\n",
    "fig"
   ]
  },
  {
   "cell_type": "code",
   "execution_count": 33,
   "id": "c54e372a-cb5d-40e5-bc76-3206d58b0ff2",
   "metadata": {},
   "outputs": [],
   "source": [
    "import torch.nn as nn\n",
    "import torch.nn.functional as F\n",
    "import torch.optim as optim"
   ]
  },
  {
   "cell_type": "code",
   "execution_count": 34,
   "id": "fdf5b5df-ae17-4364-8607-dd4d0dc5fde2",
   "metadata": {},
   "outputs": [],
   "source": [
    "class Net(nn.Module):\n",
    "    def __init__(self):\n",
    "        super(Net, self).__init__()\n",
    "        self.conv1 = nn.Conv2d(1, 10, kernel_size=5)\n",
    "        self.conv2 = nn.Conv2d(10, 20, kernel_size=5)\n",
    "        self.conv2_drop = nn.Dropout2d()\n",
    "        self.fc1 = nn.Linear(320, 50)\n",
    "        self.fc2 = nn.Linear(50, 10)\n",
    "    def forward(self, x):\n",
    "        x = F.relu(F.max_pool2d(self.conv1(x), 2))\n",
    "        x = F.relu(F.max_pool2d(self.conv2_drop(self.conv2(x)), 2))\n",
    "        x = x.view(-1, 320)\n",
    "        x = F.relu(self.fc1(x))\n",
    "        x = F.dropout(x, training=self.training)\n",
    "        x = self.fc2(x)\n",
    "        return F.log_softmax(x)"
   ]
  },
  {
   "cell_type": "code",
   "execution_count": 35,
   "id": "92358d8d-835e-4930-a2bb-0fb592c2a1b5",
   "metadata": {},
   "outputs": [],
   "source": [
    "network = Net()\n",
    "optimizer = optim.SGD(network.parameters(), lr=learning_rate,\n",
    "                      momentum=momentum)"
   ]
  },
  {
   "cell_type": "code",
   "execution_count": 36,
   "id": "c1673ae5-e1f9-480a-b758-c8011d99a5bb",
   "metadata": {},
   "outputs": [],
   "source": [
    "train_losses = []\n",
    "train_counter = []\n",
    "test_losses = []\n",
    "test_counter = [i*len(train_loader.dataset) for i in range(n_epochs + 1)]"
   ]
  },
  {
   "cell_type": "code",
   "execution_count": 37,
   "id": "8d8809a7-5e21-400f-99b8-cf763212a7bd",
   "metadata": {},
   "outputs": [],
   "source": [
    "def train(epoch):\n",
    "  network.train()\n",
    "  for batch_idx, (data, target) in enumerate(train_loader):\n",
    "    optimizer.zero_grad()\n",
    "    output = network(data)\n",
    "    loss = F.nll_loss(output, target)\n",
    "    loss.backward()\n",
    "    optimizer.step()\n",
    "    if batch_idx % log_interval == 0:\n",
    "      print('Train Epoch: {} [{}/{} ({:.0f}%)]\\tLoss: {:.6f}'.format(\n",
    "        epoch, batch_idx * len(data), len(train_loader.dataset),\n",
    "        100. * batch_idx / len(train_loader), loss.item()))\n",
    "      train_losses.append(loss.item())\n",
    "      train_counter.append(\n",
    "        (batch_idx*64) + ((epoch-1)*len(train_loader.dataset)))"
   ]
  },
  {
   "cell_type": "code",
   "execution_count": 38,
   "id": "57cbfb41-a0e4-4ddf-91ed-b35952379097",
   "metadata": {},
   "outputs": [],
   "source": [
    "def test():\n",
    "  network.eval()\n",
    "  test_loss = 0\n",
    "  correct = 0\n",
    "  with torch.no_grad():\n",
    "    for data, target in test_loader:\n",
    "      output = network(data)\n",
    "      test_loss += F.nll_loss(output, target, size_average=False).item()\n",
    "      pred = output.data.max(1, keepdim=True)[1]\n",
    "      correct += pred.eq(target.data.view_as(pred)).sum()\n",
    "  test_loss /= len(test_loader.dataset)\n",
    "  test_losses.append(test_loss)\n",
    "  print('\\nTest set: Avg. loss: {:.4f}, Accuracy: {}/{} ({:.0f}%)\\n'.format(\n",
    "    test_loss, correct, len(test_loader.dataset),\n",
    "    100. * correct / len(test_loader.dataset)))"
   ]
  },
  {
   "cell_type": "code",
   "execution_count": 39,
   "id": "79c13ef4-f379-4b33-8b42-a91c2fd1116e",
   "metadata": {},
   "outputs": [
    {
     "name": "stderr",
     "output_type": "stream",
     "text": [
      "<ipython-input-34-3149a0a29766>:16: UserWarning: Implicit dimension choice for log_softmax has been deprecated. Change the call to include dim=X as an argument.\n",
      "  return F.log_softmax(x)\n"
     ]
    },
    {
     "name": "stdout",
     "output_type": "stream",
     "text": [
      "\n",
      "Test set: Avg. loss: 2.3096, Accuracy: 924/10000 (9%)\n",
      "\n",
      "Train Epoch: 1 [0/60000 (0%)]\tLoss: 2.313179\n",
      "Train Epoch: 1 [640/60000 (1%)]\tLoss: 2.300776\n",
      "Train Epoch: 1 [1280/60000 (2%)]\tLoss: 2.298872\n",
      "Train Epoch: 1 [1920/60000 (3%)]\tLoss: 2.276723\n",
      "Train Epoch: 1 [2560/60000 (4%)]\tLoss: 2.241102\n",
      "Train Epoch: 1 [3200/60000 (5%)]\tLoss: 2.248662\n",
      "Train Epoch: 1 [3840/60000 (6%)]\tLoss: 2.189547\n",
      "Train Epoch: 1 [4480/60000 (7%)]\tLoss: 2.146399\n",
      "Train Epoch: 1 [5120/60000 (9%)]\tLoss: 2.107701\n",
      "Train Epoch: 1 [5760/60000 (10%)]\tLoss: 2.011356\n",
      "Train Epoch: 1 [6400/60000 (11%)]\tLoss: 1.843857\n",
      "Train Epoch: 1 [7040/60000 (12%)]\tLoss: 1.758839\n",
      "Train Epoch: 1 [7680/60000 (13%)]\tLoss: 1.672644\n",
      "Train Epoch: 1 [8320/60000 (14%)]\tLoss: 1.687645\n",
      "Train Epoch: 1 [8960/60000 (15%)]\tLoss: 1.426628\n",
      "Train Epoch: 1 [9600/60000 (16%)]\tLoss: 1.284204\n",
      "Train Epoch: 1 [10240/60000 (17%)]\tLoss: 1.318824\n",
      "Train Epoch: 1 [10880/60000 (18%)]\tLoss: 1.445287\n",
      "Train Epoch: 1 [11520/60000 (19%)]\tLoss: 1.140658\n",
      "Train Epoch: 1 [12160/60000 (20%)]\tLoss: 1.152956\n",
      "Train Epoch: 1 [12800/60000 (21%)]\tLoss: 1.053577\n",
      "Train Epoch: 1 [13440/60000 (22%)]\tLoss: 0.899838\n",
      "Train Epoch: 1 [14080/60000 (23%)]\tLoss: 1.192381\n",
      "Train Epoch: 1 [14720/60000 (25%)]\tLoss: 0.947140\n",
      "Train Epoch: 1 [15360/60000 (26%)]\tLoss: 0.874856\n",
      "Train Epoch: 1 [16000/60000 (27%)]\tLoss: 0.848544\n",
      "Train Epoch: 1 [16640/60000 (28%)]\tLoss: 0.771893\n",
      "Train Epoch: 1 [17280/60000 (29%)]\tLoss: 0.764048\n",
      "Train Epoch: 1 [17920/60000 (30%)]\tLoss: 0.805497\n",
      "Train Epoch: 1 [18560/60000 (31%)]\tLoss: 0.891861\n",
      "Train Epoch: 1 [19200/60000 (32%)]\tLoss: 0.795640\n",
      "Train Epoch: 1 [19840/60000 (33%)]\tLoss: 0.910627\n",
      "Train Epoch: 1 [20480/60000 (34%)]\tLoss: 0.582403\n",
      "Train Epoch: 1 [21120/60000 (35%)]\tLoss: 0.694939\n",
      "Train Epoch: 1 [21760/60000 (36%)]\tLoss: 0.619523\n",
      "Train Epoch: 1 [22400/60000 (37%)]\tLoss: 0.766233\n",
      "Train Epoch: 1 [23040/60000 (38%)]\tLoss: 0.715024\n",
      "Train Epoch: 1 [23680/60000 (39%)]\tLoss: 0.632636\n",
      "Train Epoch: 1 [24320/60000 (41%)]\tLoss: 0.665659\n",
      "Train Epoch: 1 [24960/60000 (42%)]\tLoss: 0.840592\n",
      "Train Epoch: 1 [25600/60000 (43%)]\tLoss: 0.855430\n",
      "Train Epoch: 1 [26240/60000 (44%)]\tLoss: 0.620044\n",
      "Train Epoch: 1 [26880/60000 (45%)]\tLoss: 0.630453\n",
      "Train Epoch: 1 [27520/60000 (46%)]\tLoss: 0.687899\n",
      "Train Epoch: 1 [28160/60000 (47%)]\tLoss: 0.587980\n",
      "Train Epoch: 1 [28800/60000 (48%)]\tLoss: 0.547443\n",
      "Train Epoch: 1 [29440/60000 (49%)]\tLoss: 0.833101\n",
      "Train Epoch: 1 [30080/60000 (50%)]\tLoss: 0.739253\n",
      "Train Epoch: 1 [30720/60000 (51%)]\tLoss: 0.632813\n",
      "Train Epoch: 1 [31360/60000 (52%)]\tLoss: 0.645520\n",
      "Train Epoch: 1 [32000/60000 (53%)]\tLoss: 0.711382\n",
      "Train Epoch: 1 [32640/60000 (54%)]\tLoss: 0.442867\n",
      "Train Epoch: 1 [33280/60000 (55%)]\tLoss: 0.587726\n",
      "Train Epoch: 1 [33920/60000 (57%)]\tLoss: 0.578378\n",
      "Train Epoch: 1 [34560/60000 (58%)]\tLoss: 0.660835\n",
      "Train Epoch: 1 [35200/60000 (59%)]\tLoss: 0.572858\n",
      "Train Epoch: 1 [35840/60000 (60%)]\tLoss: 0.561306\n",
      "Train Epoch: 1 [36480/60000 (61%)]\tLoss: 0.625550\n",
      "Train Epoch: 1 [37120/60000 (62%)]\tLoss: 0.804732\n",
      "Train Epoch: 1 [37760/60000 (63%)]\tLoss: 0.573892\n",
      "Train Epoch: 1 [38400/60000 (64%)]\tLoss: 0.627403\n",
      "Train Epoch: 1 [39040/60000 (65%)]\tLoss: 0.543961\n",
      "Train Epoch: 1 [39680/60000 (66%)]\tLoss: 0.624664\n",
      "Train Epoch: 1 [40320/60000 (67%)]\tLoss: 0.320901\n",
      "Train Epoch: 1 [40960/60000 (68%)]\tLoss: 0.334969\n",
      "Train Epoch: 1 [41600/60000 (69%)]\tLoss: 0.371449\n",
      "Train Epoch: 1 [42240/60000 (70%)]\tLoss: 0.298658\n",
      "Train Epoch: 1 [42880/60000 (71%)]\tLoss: 0.419554\n",
      "Train Epoch: 1 [43520/60000 (72%)]\tLoss: 0.434449\n",
      "Train Epoch: 1 [44160/60000 (74%)]\tLoss: 0.453025\n",
      "Train Epoch: 1 [44800/60000 (75%)]\tLoss: 0.614609\n",
      "Train Epoch: 1 [45440/60000 (76%)]\tLoss: 0.532227\n",
      "Train Epoch: 1 [46080/60000 (77%)]\tLoss: 0.517912\n",
      "Train Epoch: 1 [46720/60000 (78%)]\tLoss: 0.383934\n",
      "Train Epoch: 1 [47360/60000 (79%)]\tLoss: 0.494573\n",
      "Train Epoch: 1 [48000/60000 (80%)]\tLoss: 0.556367\n",
      "Train Epoch: 1 [48640/60000 (81%)]\tLoss: 0.417237\n",
      "Train Epoch: 1 [49280/60000 (82%)]\tLoss: 0.394811\n",
      "Train Epoch: 1 [49920/60000 (83%)]\tLoss: 0.522914\n",
      "Train Epoch: 1 [50560/60000 (84%)]\tLoss: 0.427441\n",
      "Train Epoch: 1 [51200/60000 (85%)]\tLoss: 0.694497\n",
      "Train Epoch: 1 [51840/60000 (86%)]\tLoss: 0.499355\n",
      "Train Epoch: 1 [52480/60000 (87%)]\tLoss: 0.682454\n",
      "Train Epoch: 1 [53120/60000 (88%)]\tLoss: 0.549657\n",
      "Train Epoch: 1 [53760/60000 (90%)]\tLoss: 0.557483\n",
      "Train Epoch: 1 [54400/60000 (91%)]\tLoss: 0.632214\n",
      "Train Epoch: 1 [55040/60000 (92%)]\tLoss: 0.443137\n",
      "Train Epoch: 1 [55680/60000 (93%)]\tLoss: 0.551459\n",
      "Train Epoch: 1 [56320/60000 (94%)]\tLoss: 0.553697\n",
      "Train Epoch: 1 [56960/60000 (95%)]\tLoss: 0.354288\n",
      "Train Epoch: 1 [57600/60000 (96%)]\tLoss: 0.316035\n",
      "Train Epoch: 1 [58240/60000 (97%)]\tLoss: 0.303243\n",
      "Train Epoch: 1 [58880/60000 (98%)]\tLoss: 0.716555\n",
      "Train Epoch: 1 [59520/60000 (99%)]\tLoss: 0.383558\n",
      "\n",
      "Test set: Avg. loss: 0.1864, Accuracy: 9438/10000 (94%)\n",
      "\n",
      "Train Epoch: 2 [0/60000 (0%)]\tLoss: 0.440339\n",
      "Train Epoch: 2 [640/60000 (1%)]\tLoss: 0.469435\n",
      "Train Epoch: 2 [1280/60000 (2%)]\tLoss: 0.509253\n",
      "Train Epoch: 2 [1920/60000 (3%)]\tLoss: 0.506885\n",
      "Train Epoch: 2 [2560/60000 (4%)]\tLoss: 0.300824\n",
      "Train Epoch: 2 [3200/60000 (5%)]\tLoss: 0.165906\n",
      "Train Epoch: 2 [3840/60000 (6%)]\tLoss: 0.476971\n",
      "Train Epoch: 2 [4480/60000 (7%)]\tLoss: 0.412993\n",
      "Train Epoch: 2 [5120/60000 (9%)]\tLoss: 0.393474\n",
      "Train Epoch: 2 [5760/60000 (10%)]\tLoss: 0.637620\n",
      "Train Epoch: 2 [6400/60000 (11%)]\tLoss: 0.565368\n",
      "Train Epoch: 2 [7040/60000 (12%)]\tLoss: 0.304737\n",
      "Train Epoch: 2 [7680/60000 (13%)]\tLoss: 0.435464\n",
      "Train Epoch: 2 [8320/60000 (14%)]\tLoss: 0.637521\n",
      "Train Epoch: 2 [8960/60000 (15%)]\tLoss: 0.502357\n",
      "Train Epoch: 2 [9600/60000 (16%)]\tLoss: 0.450039\n",
      "Train Epoch: 2 [10240/60000 (17%)]\tLoss: 0.311704\n",
      "Train Epoch: 2 [10880/60000 (18%)]\tLoss: 0.498341\n",
      "Train Epoch: 2 [11520/60000 (19%)]\tLoss: 0.322191\n",
      "Train Epoch: 2 [12160/60000 (20%)]\tLoss: 0.323756\n",
      "Train Epoch: 2 [12800/60000 (21%)]\tLoss: 0.467862\n",
      "Train Epoch: 2 [13440/60000 (22%)]\tLoss: 0.476511\n",
      "Train Epoch: 2 [14080/60000 (23%)]\tLoss: 0.472192\n",
      "Train Epoch: 2 [14720/60000 (25%)]\tLoss: 0.380189\n",
      "Train Epoch: 2 [15360/60000 (26%)]\tLoss: 0.202136\n",
      "Train Epoch: 2 [16000/60000 (27%)]\tLoss: 0.255493\n",
      "Train Epoch: 2 [16640/60000 (28%)]\tLoss: 0.362601\n",
      "Train Epoch: 2 [17280/60000 (29%)]\tLoss: 0.419573\n",
      "Train Epoch: 2 [17920/60000 (30%)]\tLoss: 0.326882\n",
      "Train Epoch: 2 [18560/60000 (31%)]\tLoss: 0.335627\n",
      "Train Epoch: 2 [19200/60000 (32%)]\tLoss: 0.490675\n",
      "Train Epoch: 2 [19840/60000 (33%)]\tLoss: 0.352373\n",
      "Train Epoch: 2 [20480/60000 (34%)]\tLoss: 0.364297\n",
      "Train Epoch: 2 [21120/60000 (35%)]\tLoss: 0.354880\n",
      "Train Epoch: 2 [21760/60000 (36%)]\tLoss: 0.493919\n",
      "Train Epoch: 2 [22400/60000 (37%)]\tLoss: 0.600932\n",
      "Train Epoch: 2 [23040/60000 (38%)]\tLoss: 0.489900\n",
      "Train Epoch: 2 [23680/60000 (39%)]\tLoss: 0.350780\n",
      "Train Epoch: 2 [24320/60000 (41%)]\tLoss: 0.411205\n",
      "Train Epoch: 2 [24960/60000 (42%)]\tLoss: 0.204166\n",
      "Train Epoch: 2 [25600/60000 (43%)]\tLoss: 0.206056\n",
      "Train Epoch: 2 [26240/60000 (44%)]\tLoss: 0.385642\n",
      "Train Epoch: 2 [26880/60000 (45%)]\tLoss: 0.300997\n",
      "Train Epoch: 2 [27520/60000 (46%)]\tLoss: 0.230377\n",
      "Train Epoch: 2 [28160/60000 (47%)]\tLoss: 0.167519\n",
      "Train Epoch: 2 [28800/60000 (48%)]\tLoss: 0.263114\n",
      "Train Epoch: 2 [29440/60000 (49%)]\tLoss: 0.523259\n",
      "Train Epoch: 2 [30080/60000 (50%)]\tLoss: 0.296855\n",
      "Train Epoch: 2 [30720/60000 (51%)]\tLoss: 0.317473\n",
      "Train Epoch: 2 [31360/60000 (52%)]\tLoss: 0.458140\n",
      "Train Epoch: 2 [32000/60000 (53%)]\tLoss: 0.687634\n",
      "Train Epoch: 2 [32640/60000 (54%)]\tLoss: 0.291329\n",
      "Train Epoch: 2 [33280/60000 (55%)]\tLoss: 0.271950\n",
      "Train Epoch: 2 [33920/60000 (57%)]\tLoss: 0.434479\n",
      "Train Epoch: 2 [34560/60000 (58%)]\tLoss: 0.388147\n",
      "Train Epoch: 2 [35200/60000 (59%)]\tLoss: 0.446179\n",
      "Train Epoch: 2 [35840/60000 (60%)]\tLoss: 0.460561\n",
      "Train Epoch: 2 [36480/60000 (61%)]\tLoss: 0.346642\n",
      "Train Epoch: 2 [37120/60000 (62%)]\tLoss: 0.481860\n",
      "Train Epoch: 2 [37760/60000 (63%)]\tLoss: 0.431715\n",
      "Train Epoch: 2 [38400/60000 (64%)]\tLoss: 0.282530\n",
      "Train Epoch: 2 [39040/60000 (65%)]\tLoss: 0.190561\n",
      "Train Epoch: 2 [39680/60000 (66%)]\tLoss: 0.420266\n",
      "Train Epoch: 2 [40320/60000 (67%)]\tLoss: 0.191966\n",
      "Train Epoch: 2 [40960/60000 (68%)]\tLoss: 0.499374\n",
      "Train Epoch: 2 [41600/60000 (69%)]\tLoss: 0.143479\n",
      "Train Epoch: 2 [42240/60000 (70%)]\tLoss: 0.359340\n",
      "Train Epoch: 2 [42880/60000 (71%)]\tLoss: 0.455502\n",
      "Train Epoch: 2 [43520/60000 (72%)]\tLoss: 0.284436\n",
      "Train Epoch: 2 [44160/60000 (74%)]\tLoss: 0.411646\n",
      "Train Epoch: 2 [44800/60000 (75%)]\tLoss: 0.241226\n",
      "Train Epoch: 2 [45440/60000 (76%)]\tLoss: 0.488671\n",
      "Train Epoch: 2 [46080/60000 (77%)]\tLoss: 0.292272\n",
      "Train Epoch: 2 [46720/60000 (78%)]\tLoss: 0.292756\n",
      "Train Epoch: 2 [47360/60000 (79%)]\tLoss: 0.202214\n",
      "Train Epoch: 2 [48000/60000 (80%)]\tLoss: 0.261317\n",
      "Train Epoch: 2 [48640/60000 (81%)]\tLoss: 0.354185\n",
      "Train Epoch: 2 [49280/60000 (82%)]\tLoss: 0.428840\n",
      "Train Epoch: 2 [49920/60000 (83%)]\tLoss: 0.271411\n",
      "Train Epoch: 2 [50560/60000 (84%)]\tLoss: 0.340419\n",
      "Train Epoch: 2 [51200/60000 (85%)]\tLoss: 0.453894\n",
      "Train Epoch: 2 [51840/60000 (86%)]\tLoss: 0.316161\n",
      "Train Epoch: 2 [52480/60000 (87%)]\tLoss: 0.337763\n",
      "Train Epoch: 2 [53120/60000 (88%)]\tLoss: 0.248534\n",
      "Train Epoch: 2 [53760/60000 (90%)]\tLoss: 0.235532\n",
      "Train Epoch: 2 [54400/60000 (91%)]\tLoss: 0.194960\n",
      "Train Epoch: 2 [55040/60000 (92%)]\tLoss: 0.477535\n",
      "Train Epoch: 2 [55680/60000 (93%)]\tLoss: 0.192724\n",
      "Train Epoch: 2 [56320/60000 (94%)]\tLoss: 0.382673\n",
      "Train Epoch: 2 [56960/60000 (95%)]\tLoss: 0.213257\n",
      "Train Epoch: 2 [57600/60000 (96%)]\tLoss: 0.548612\n",
      "Train Epoch: 2 [58240/60000 (97%)]\tLoss: 0.465227\n",
      "Train Epoch: 2 [58880/60000 (98%)]\tLoss: 0.277409\n",
      "Train Epoch: 2 [59520/60000 (99%)]\tLoss: 0.275432\n",
      "\n",
      "Test set: Avg. loss: 0.1167, Accuracy: 9631/10000 (96%)\n",
      "\n",
      "Train Epoch: 3 [0/60000 (0%)]\tLoss: 0.216063\n",
      "Train Epoch: 3 [640/60000 (1%)]\tLoss: 0.241929\n",
      "Train Epoch: 3 [1280/60000 (2%)]\tLoss: 0.384212\n",
      "Train Epoch: 3 [1920/60000 (3%)]\tLoss: 0.255625\n",
      "Train Epoch: 3 [2560/60000 (4%)]\tLoss: 0.265559\n",
      "Train Epoch: 3 [3200/60000 (5%)]\tLoss: 0.327845\n",
      "Train Epoch: 3 [3840/60000 (6%)]\tLoss: 0.276629\n",
      "Train Epoch: 3 [4480/60000 (7%)]\tLoss: 0.458581\n",
      "Train Epoch: 3 [5120/60000 (9%)]\tLoss: 0.499252\n",
      "Train Epoch: 3 [5760/60000 (10%)]\tLoss: 0.403278\n",
      "Train Epoch: 3 [6400/60000 (11%)]\tLoss: 0.320706\n",
      "Train Epoch: 3 [7040/60000 (12%)]\tLoss: 0.349471\n",
      "Train Epoch: 3 [7680/60000 (13%)]\tLoss: 0.249226\n",
      "Train Epoch: 3 [8320/60000 (14%)]\tLoss: 0.164522\n",
      "Train Epoch: 3 [8960/60000 (15%)]\tLoss: 0.253766\n",
      "Train Epoch: 3 [9600/60000 (16%)]\tLoss: 0.230473\n",
      "Train Epoch: 3 [10240/60000 (17%)]\tLoss: 0.278795\n",
      "Train Epoch: 3 [10880/60000 (18%)]\tLoss: 0.298118\n",
      "Train Epoch: 3 [11520/60000 (19%)]\tLoss: 0.461534\n",
      "Train Epoch: 3 [12160/60000 (20%)]\tLoss: 0.223429\n",
      "Train Epoch: 3 [12800/60000 (21%)]\tLoss: 0.447988\n",
      "Train Epoch: 3 [13440/60000 (22%)]\tLoss: 0.331272\n",
      "Train Epoch: 3 [14080/60000 (23%)]\tLoss: 0.355468\n",
      "Train Epoch: 3 [14720/60000 (25%)]\tLoss: 0.320527\n",
      "Train Epoch: 3 [15360/60000 (26%)]\tLoss: 0.317644\n",
      "Train Epoch: 3 [16000/60000 (27%)]\tLoss: 0.815364\n",
      "Train Epoch: 3 [16640/60000 (28%)]\tLoss: 0.538977\n",
      "Train Epoch: 3 [17280/60000 (29%)]\tLoss: 0.441781\n",
      "Train Epoch: 3 [17920/60000 (30%)]\tLoss: 0.305060\n",
      "Train Epoch: 3 [18560/60000 (31%)]\tLoss: 0.305743\n",
      "Train Epoch: 3 [19200/60000 (32%)]\tLoss: 0.352378\n",
      "Train Epoch: 3 [19840/60000 (33%)]\tLoss: 0.368877\n",
      "Train Epoch: 3 [20480/60000 (34%)]\tLoss: 0.183424\n",
      "Train Epoch: 3 [21120/60000 (35%)]\tLoss: 0.180369\n",
      "Train Epoch: 3 [21760/60000 (36%)]\tLoss: 0.334066\n",
      "Train Epoch: 3 [22400/60000 (37%)]\tLoss: 0.234866\n",
      "Train Epoch: 3 [23040/60000 (38%)]\tLoss: 0.415607\n",
      "Train Epoch: 3 [23680/60000 (39%)]\tLoss: 0.205079\n",
      "Train Epoch: 3 [24320/60000 (41%)]\tLoss: 0.260179\n",
      "Train Epoch: 3 [24960/60000 (42%)]\tLoss: 0.167833\n",
      "Train Epoch: 3 [25600/60000 (43%)]\tLoss: 0.419735\n",
      "Train Epoch: 3 [26240/60000 (44%)]\tLoss: 0.197771\n",
      "Train Epoch: 3 [26880/60000 (45%)]\tLoss: 0.203389\n",
      "Train Epoch: 3 [27520/60000 (46%)]\tLoss: 0.193210\n",
      "Train Epoch: 3 [28160/60000 (47%)]\tLoss: 0.316018\n",
      "Train Epoch: 3 [28800/60000 (48%)]\tLoss: 0.462620\n",
      "Train Epoch: 3 [29440/60000 (49%)]\tLoss: 0.151299\n",
      "Train Epoch: 3 [30080/60000 (50%)]\tLoss: 0.250269\n",
      "Train Epoch: 3 [30720/60000 (51%)]\tLoss: 0.249386\n",
      "Train Epoch: 3 [31360/60000 (52%)]\tLoss: 0.229393\n",
      "Train Epoch: 3 [32000/60000 (53%)]\tLoss: 0.460800\n",
      "Train Epoch: 3 [32640/60000 (54%)]\tLoss: 0.328605\n",
      "Train Epoch: 3 [33280/60000 (55%)]\tLoss: 0.172067\n",
      "Train Epoch: 3 [33920/60000 (57%)]\tLoss: 0.473231\n",
      "Train Epoch: 3 [34560/60000 (58%)]\tLoss: 0.252630\n",
      "Train Epoch: 3 [35200/60000 (59%)]\tLoss: 0.333892\n",
      "Train Epoch: 3 [35840/60000 (60%)]\tLoss: 0.488702\n",
      "Train Epoch: 3 [36480/60000 (61%)]\tLoss: 0.182512\n",
      "Train Epoch: 3 [37120/60000 (62%)]\tLoss: 0.215109\n",
      "Train Epoch: 3 [37760/60000 (63%)]\tLoss: 0.313744\n",
      "Train Epoch: 3 [38400/60000 (64%)]\tLoss: 0.423827\n",
      "Train Epoch: 3 [39040/60000 (65%)]\tLoss: 0.355935\n",
      "Train Epoch: 3 [39680/60000 (66%)]\tLoss: 0.190334\n",
      "Train Epoch: 3 [40320/60000 (67%)]\tLoss: 0.233537\n",
      "Train Epoch: 3 [40960/60000 (68%)]\tLoss: 0.448172\n",
      "Train Epoch: 3 [41600/60000 (69%)]\tLoss: 0.338626\n",
      "Train Epoch: 3 [42240/60000 (70%)]\tLoss: 0.389704\n",
      "Train Epoch: 3 [42880/60000 (71%)]\tLoss: 0.186727\n",
      "Train Epoch: 3 [43520/60000 (72%)]\tLoss: 0.244493\n",
      "Train Epoch: 3 [44160/60000 (74%)]\tLoss: 0.297756\n",
      "Train Epoch: 3 [44800/60000 (75%)]\tLoss: 0.180464\n",
      "Train Epoch: 3 [45440/60000 (76%)]\tLoss: 0.239898\n",
      "Train Epoch: 3 [46080/60000 (77%)]\tLoss: 0.345296\n",
      "Train Epoch: 3 [46720/60000 (78%)]\tLoss: 0.198764\n",
      "Train Epoch: 3 [47360/60000 (79%)]\tLoss: 0.380324\n",
      "Train Epoch: 3 [48000/60000 (80%)]\tLoss: 0.327503\n",
      "Train Epoch: 3 [48640/60000 (81%)]\tLoss: 0.205741\n",
      "Train Epoch: 3 [49280/60000 (82%)]\tLoss: 0.220506\n",
      "Train Epoch: 3 [49920/60000 (83%)]\tLoss: 0.477687\n",
      "Train Epoch: 3 [50560/60000 (84%)]\tLoss: 0.404378\n",
      "Train Epoch: 3 [51200/60000 (85%)]\tLoss: 0.446832\n",
      "Train Epoch: 3 [51840/60000 (86%)]\tLoss: 0.247778\n",
      "Train Epoch: 3 [52480/60000 (87%)]\tLoss: 0.499534\n",
      "Train Epoch: 3 [53120/60000 (88%)]\tLoss: 0.235917\n",
      "Train Epoch: 3 [53760/60000 (90%)]\tLoss: 0.188165\n",
      "Train Epoch: 3 [54400/60000 (91%)]\tLoss: 0.398351\n",
      "Train Epoch: 3 [55040/60000 (92%)]\tLoss: 0.302109\n",
      "Train Epoch: 3 [55680/60000 (93%)]\tLoss: 0.160580\n",
      "Train Epoch: 3 [56320/60000 (94%)]\tLoss: 0.266976\n",
      "Train Epoch: 3 [56960/60000 (95%)]\tLoss: 0.321708\n",
      "Train Epoch: 3 [57600/60000 (96%)]\tLoss: 0.533561\n",
      "Train Epoch: 3 [58240/60000 (97%)]\tLoss: 0.376344\n",
      "Train Epoch: 3 [58880/60000 (98%)]\tLoss: 0.112129\n",
      "Train Epoch: 3 [59520/60000 (99%)]\tLoss: 0.311354\n",
      "\n",
      "Test set: Avg. loss: 0.0987, Accuracy: 9682/10000 (97%)\n",
      "\n"
     ]
    }
   ],
   "source": [
    "test()\n",
    "for epoch in range(1, n_epochs + 1):\n",
    "  train(epoch)\n",
    "  test()"
   ]
  },
  {
   "cell_type": "code",
   "execution_count": 40,
   "id": "bc9a04e7-f556-4df5-8925-74ed620a0ce1",
   "metadata": {},
   "outputs": [
    {
     "data": {
      "image/png": "[encoded data removed]",
      "text/plain": [
       "<Figure size 432x288 with 1 Axes>"
      ]
     },
     "execution_count": 40,
     "metadata": {},
     "output_type": "execute_result"
    },
    {
     "data": {
      "image/png": "[encoded data removed]",
      "text/plain": [
       "<Figure size 432x288 with 1 Axes>"
      ]
     },
     "metadata": {
      "needs_background": "light"
     },
     "output_type": "display_data"
    }
   ],
   "source": [
    "fig = plt.figure()\n",
    "plt.plot(train_counter, train_losses, color='blue')\n",
    "plt.scatter(test_counter, test_losses, color='red')\n",
    "plt.legend(['Train Loss', 'Test Loss'], loc='upper right')\n",
    "plt.xlabel('number of training examples seen')\n",
    "plt.ylabel('negative log likelihood loss')\n",
    "fig"
   ]
  },
  {
   "cell_type": "code",
   "execution_count": null,
   "id": "78acb530-7e4f-45d3-b024-791e16f017dc",
   "metadata": {},
   "outputs": [],
   "source": [
    "with torch.no_grad():\n",
    "  output = network(example_data)"
   ]
  },
  {
   "cell_type": "code",
   "execution_count": null,
   "id": "0731da9c-eacc-485a-a431-2e7b4a102217",
   "metadata": {},
   "outputs": [],
   "source": [
    "fig = plt.figure()\n",
    "for i in range(6):\n",
    "  plt.subplot(2,3,i+1)\n",
    "  plt.tight_layout()\n",
    "  plt.imshow(example_data[i][0], cmap='gray', interpolation='none')\n",
    "  plt.title(\"Prediction: {}\".format(\n",
    "    output.data.max(1, keepdim=True)[1][i].item()))\n",
    "  plt.xticks([])\n",
    "  plt.yticks([])\n",
    "fig"
   ]
  },
  {
   "cell_type": "code",
   "execution_count": null,
   "id": "f7179666-756c-4298-9989-955b417c91ff",
   "metadata": {},
   "outputs": [],
   "source": []
  }
 ],
 "metadata": {
  "kernelspec": {
   "display_name": "Python 3",
   "language": "python",
   "name": "python3"
  },
  "language_info": {
   "codemirror_mode": {
    "name": "ipython",
    "version": 3
   },
   "file_extension": ".py",
   "mimetype": "text/x-python",
   "name": "python",
   "nbconvert_exporter": "python",
   "pygments_lexer": "ipython3",
   "version": "3.8.8"
  }
 },
 "nbformat": 4,
 "nbformat_minor": 5
}
