{
 "cells": [
  {
   "cell_type": "markdown",
   "id": "d18fcf50-fadc-479d-940a-4214e4a38efb",
   "metadata": {},
   "source": [
    "# Twitter Sentiment Analysis"
   ]
  },
  {
   "cell_type": "code",
   "execution_count": 1,
   "id": "8c41f35f-e3c8-4d71-8021-44f6bf580d9e",
   "metadata": {},
   "outputs": [],
   "source": [
    "import pandas as pd"
   ]
  },
  {
   "cell_type": "code",
   "execution_count": 4,
   "id": "fe251c7a-47fc-4e3d-b81a-d4bb86990e13",
   "metadata": {},
   "outputs": [
    {
     "data": {
      "text/plain": [
       "<bound method NDFrame.to_csv of                a+\n",
       "0          abound\n",
       "1         abounds\n",
       "2       abundance\n",
       "3        abundant\n",
       "4      accessable\n",
       "...           ...\n",
       "2129    surprised\n",
       "2130         love\n",
       "2131         glad\n",
       "2132          yum\n",
       "2133  interesting\n",
       "\n",
       "[2134 rows x 1 columns]>"
      ]
     },
     "execution_count": 4,
     "metadata": {},
     "output_type": "execute_result"
    }
   ],
   "source": [
    "datapositive = pd.read_csv ('Dataset/positive-words.txt')\n",
    "datapositive.to_csv"
   ]
  },
  {
   "cell_type": "code",
   "execution_count": 6,
   "id": "37a1ca04-ede4-4903-afac-62d1c1ec7341",
   "metadata": {},
   "outputs": [
    {
     "data": {
      "text/plain": [
       "<bound method NDFrame.to_csv of          2-faced\n",
       "0        2-faces\n",
       "1       abnormal\n",
       "2        abolish\n",
       "3     abominable\n",
       "4     abominably\n",
       "...          ...\n",
       "4935     worried\n",
       "4936        fool\n",
       "4937     painful\n",
       "4938        pain\n",
       "4939       gross\n",
       "\n",
       "[4940 rows x 1 columns]>"
      ]
     },
     "execution_count": 6,
     "metadata": {},
     "output_type": "execute_result"
    }
   ],
   "source": [
    "datanegative = pd.read_csv ('Dataset/negative-words.txt')\n",
    "datanegative.to_csv"
   ]
  },
  {
   "cell_type": "code",
   "execution_count": null,
   "id": "89931918-7b5a-4607-8e1b-cbf613ff160c",
   "metadata": {},
   "outputs": [],
   "source": []
  }
 ],
 "metadata": {
  "kernelspec": {
   "display_name": "Python 3",
   "language": "python",
   "name": "python3"
  },
  "language_info": {
   "codemirror_mode": {
    "name": "ipython",
    "version": 3
   },
   "file_extension": ".py",
   "mimetype": "text/x-python",
   "name": "python",
   "nbconvert_exporter": "python",
   "pygments_lexer": "ipython3",
   "version": "3.8.8"
  }
 },
 "nbformat": 4,
 "nbformat_minor": 5
}
