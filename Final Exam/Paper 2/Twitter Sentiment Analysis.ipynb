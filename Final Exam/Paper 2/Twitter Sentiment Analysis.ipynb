{
 "cells": [
  {
   "cell_type": "markdown",
   "id": "d18fcf50-fadc-479d-940a-4214e4a38efb",
   "metadata": {},
   "source": [
    "# Twitter Sentiment Analysis"
   ]
  },
  {
   "cell_type": "code",
   "execution_count": 13,
   "id": "0303815e-edcc-4b89-9382-99e0b9204a08",
   "metadata": {},
   "outputs": [],
   "source": [
    "import utils\n",
    "import random\n",
    "import numpy as np\n",
    "from sklearn.naive_bayes import MultinomialNB\n",
    "from scipy.sparse import lil_matrix\n",
    "from sklearn.feature_extraction.text import TfidfTransformer\n"
   ]
  },
  {
   "cell_type": "code",
   "execution_count": 1,
   "id": "efc12071-7e01-4444-9987-bc2aa59dcd6a",
   "metadata": {},
   "outputs": [
    {
     "name": "stdout",
     "output_type": "stream",
     "text": [
      "[name: \"/device:CPU:0\"\n",
      "device_type: \"CPU\"\n",
      "memory_limit: 268435456\n",
      "locality {\n",
      "}\n",
      "incarnation: 5807831445560190399\n",
      "xla_global_id: -1\n",
      ", name: \"/device:GPU:0\"\n",
      "device_type: \"GPU\"\n",
      "memory_limit: 2253809255\n",
      "locality {\n",
      "  bus_id: 1\n",
      "  links {\n",
      "  }\n",
      "}\n",
      "incarnation: 4513499021582224779\n",
      "physical_device_desc: \"device: 0, name: NVIDIA GeForce GTX 1650, pci bus id: 0000:01:00.0, compute capability: 7.5\"\n",
      "xla_global_id: 416903419\n",
      "]\n"
     ]
    }
   ],
   "source": [
    "import tensorflow as tf\n",
    "from tensorflow.python.client import device_lib\n",
    "print(device_lib.list_local_devices())"
   ]
  },
  {
   "cell_type": "code",
   "execution_count": 13,
   "id": "c33a1a0a-7d27-49b6-845f-49232e86a4ea",
   "metadata": {},
   "outputs": [],
   "source": [
    "#FREQ_DIST_FILE = '../train-processed-freqdist.pkl'\n",
    "#BI_FREQ_DIST_FILE = '../train-processed-freqdist-bi.pkl'\n",
    "#TRAIN_PROCESSED_FILE = '../train-processed.csv'\n",
    "#TEST_PROCESSED_FILE = '../test-processed.csv'\n",
    "TRAIN = True\n",
    "UNIGRAM_SIZE = 15000\n",
    "VOCAB_SIZE = UNIGRAM_SIZE\n",
    "USE_BIGRAMS = True\n",
    "if USE_BIGRAMS:\n",
    "    BIGRAM_SIZE = 10000\n",
    "    VOCAB_SIZE = UNIGRAM_SIZE + BIGRAM_SIZE\n",
    "FEAT_TYPE = 'frequency'"
   ]
  },
  {
   "cell_type": "code",
   "execution_count": 14,
   "id": "44e165b4-ac0e-43fd-965a-2798969c071e",
   "metadata": {},
   "outputs": [],
   "source": [
    "def get_feature_vector(tweet):\n",
    "    uni_feature_vector = []\n",
    "    bi_feature_vector = []\n",
    "    words = tweet.split()\n",
    "    for i in xrange(len(words) - 1):\n",
    "        word = words[i]\n",
    "        next_word = words[i + 1]\n",
    "        if unigrams.get(word):\n",
    "            uni_feature_vector.append(word)\n",
    "        if USE_BIGRAMS:\n",
    "            if bigrams.get((word, next_word)):\n",
    "                bi_feature_vector.append((word, next_word))\n",
    "    if len(words) >= 1:\n",
    "        if unigrams.get(words[-1]):\n",
    "            uni_feature_vector.append(words[-1])\n",
    "    return uni_feature_vector, bi_feature_vector"
   ]
  },
  {
   "cell_type": "code",
   "execution_count": 15,
   "id": "3a0683f7-e935-40dc-b872-9dd359e35240",
   "metadata": {},
   "outputs": [],
   "source": [
    "def extract_features(tweets, batch_size=500, test_file=True, feat_type='presence'):\n",
    "    num_batches = int(np.ceil(len(tweets) / float(batch_size)))\n",
    "    for i in xrange(num_batches):\n",
    "        batch = tweets[i * batch_size: (i + 1) * batch_size]\n",
    "        features = lil_matrix((batch_size, VOCAB_SIZE))\n",
    "        labels = np.zeros(batch_size)\n",
    "        for j, tweet in enumerate(batch):\n",
    "            if test_file:\n",
    "                tweet_words = tweet[1][0]\n",
    "                tweet_bigrams = tweet[1][1]\n",
    "            else:\n",
    "                tweet_words = tweet[2][0]\n",
    "                tweet_bigrams = tweet[2][1]\n",
    "                labels[j] = tweet[1]\n",
    "            if feat_type == 'presence':\n",
    "                tweet_words = set(tweet_words)\n",
    "                tweet_bigrams = set(tweet_bigrams)\n",
    "            for word in tweet_words:\n",
    "                idx = unigrams.get(word)\n",
    "                if idx:\n",
    "                    features[j, idx] += 1\n",
    "            if USE_BIGRAMS:\n",
    "                for bigram in tweet_bigrams:\n",
    "                    idx = bigrams.get(bigram)\n",
    "                    if idx:\n",
    "                        features[j, UNIGRAM_SIZE + idx] += 1\n",
    "        yield features, labels"
   ]
  },
  {
   "cell_type": "code",
   "execution_count": 16,
   "id": "f833441e-261e-41c5-8843-59fd2baebd8c",
   "metadata": {},
   "outputs": [],
   "source": [
    "def apply_tf_idf(X):\n",
    "    transformer = TfidfTransformer(smooth_idf=True, sublinear_tf=True, use_idf=True)\n",
    "    transformer.fit(X)\n",
    "    return transformer"
   ]
  },
  {
   "cell_type": "code",
   "execution_count": 17,
   "id": "35c7de8c-0676-408d-9140-64254ec6ce80",
   "metadata": {},
   "outputs": [],
   "source": [
    "def process_tweets(csv_file, test_file=True):\n",
    "    \"\"\"Returns a list of tuples of type (tweet_id, feature_vector)\n",
    "            or (tweet_id, sentiment, feature_vector)\n",
    "    Args:\n",
    "        csv_file (str): Name of processed csv file generated by preprocess.py\n",
    "        test_file (bool, optional): If processing test file\n",
    "    Returns:\n",
    "        list: Of tuples\n",
    "    \"\"\"\n",
    "    tweets = []\n",
    "    print ('Generating feature vectors')\n",
    "    with open(csv_file, 'r') as csv:\n",
    "        lines = csv.readlines()\n",
    "        total = len(lines)\n",
    "        for i, line in enumerate(lines):\n",
    "            if test_file:\n",
    "                tweet_id, tweet = line.split(',')\n",
    "            else:\n",
    "                tweet_id, sentiment, tweet = line.split(',')\n",
    "            feature_vector = get_feature_vector(tweet)\n",
    "            if test_file:\n",
    "                tweets.append((tweet_id, feature_vector))\n",
    "            else:\n",
    "                tweets.append((tweet_id, int(sentiment), feature_vector))\n",
    "            utils.write_status(i + 1, total)\n",
    "    print ('\\n')\n",
    "    return tweets\n"
   ]
  },
  {
   "cell_type": "code",
   "execution_count": 18,
   "id": "a88df3de-bf26-47c2-b06a-df1843181aec",
   "metadata": {},
   "outputs": [
    {
     "ename": "AttributeError",
     "evalue": "module 'utils' has no attribute 'top_n_words'",
     "output_type": "error",
     "traceback": [
      "\u001b[1;31m---------------------------------------------------------------------------\u001b[0m",
      "\u001b[1;31mAttributeError\u001b[0m                            Traceback (most recent call last)",
      "\u001b[1;32m<ipython-input-18-b98efece6a2c>\u001b[0m in \u001b[0;36m<module>\u001b[1;34m\u001b[0m\n\u001b[0;32m      1\u001b[0m \u001b[1;32mif\u001b[0m \u001b[0m__name__\u001b[0m \u001b[1;33m==\u001b[0m \u001b[1;34m'__main__'\u001b[0m\u001b[1;33m:\u001b[0m\u001b[1;33m\u001b[0m\u001b[1;33m\u001b[0m\u001b[0m\n\u001b[0;32m      2\u001b[0m     \u001b[0mnp\u001b[0m\u001b[1;33m.\u001b[0m\u001b[0mrandom\u001b[0m\u001b[1;33m.\u001b[0m\u001b[0mseed\u001b[0m\u001b[1;33m(\u001b[0m\u001b[1;36m1337\u001b[0m\u001b[1;33m)\u001b[0m\u001b[1;33m\u001b[0m\u001b[1;33m\u001b[0m\u001b[0m\n\u001b[1;32m----> 3\u001b[1;33m     \u001b[0munigrams\u001b[0m \u001b[1;33m=\u001b[0m \u001b[0mutils\u001b[0m\u001b[1;33m.\u001b[0m\u001b[0mtop_n_words\u001b[0m\u001b[1;33m(\u001b[0m\u001b[0mFREQ_DIST_FILE\u001b[0m\u001b[1;33m,\u001b[0m \u001b[0mUNIGRAM_SIZE\u001b[0m\u001b[1;33m)\u001b[0m\u001b[1;33m\u001b[0m\u001b[1;33m\u001b[0m\u001b[0m\n\u001b[0m\u001b[0;32m      4\u001b[0m     \u001b[1;32mif\u001b[0m \u001b[0mUSE_BIGRAMS\u001b[0m\u001b[1;33m:\u001b[0m\u001b[1;33m\u001b[0m\u001b[1;33m\u001b[0m\u001b[0m\n\u001b[0;32m      5\u001b[0m         \u001b[0mbigrams\u001b[0m \u001b[1;33m=\u001b[0m \u001b[0mutils\u001b[0m\u001b[1;33m.\u001b[0m\u001b[0mtop_n_bigrams\u001b[0m\u001b[1;33m(\u001b[0m\u001b[0mBI_FREQ_DIST_FILE\u001b[0m\u001b[1;33m,\u001b[0m \u001b[0mBIGRAM_SIZE\u001b[0m\u001b[1;33m)\u001b[0m\u001b[1;33m\u001b[0m\u001b[1;33m\u001b[0m\u001b[0m\n",
      "\u001b[1;31mAttributeError\u001b[0m: module 'utils' has no attribute 'top_n_words'"
     ]
    }
   ],
   "source": [
    "if __name__ == '__main__':\n",
    "    np.random.seed(1337)\n",
    "    unigrams = utils.top_n_words(FREQ_DIST_FILE, UNIGRAM_SIZE)\n",
    "    if USE_BIGRAMS:\n",
    "        bigrams = utils.top_n_bigrams(BI_FREQ_DIST_FILE, BIGRAM_SIZE)\n",
    "    tweets = process_tweets(TRAIN_PROCESSED_FILE, test_file=False)\n",
    "    if TRAIN:\n",
    "        train_tweets, val_tweets = utils.split_data(tweets)\n",
    "    else:\n",
    "        random.shuffle(tweets)\n",
    "        train_tweets = tweets\n",
    "    del tweets\n",
    "    print ('Extracting features & training batches')\n",
    "    clf = MultinomialNB()\n",
    "    batch_size = len(train_tweets)\n",
    "    i = 1\n",
    "    n_train_batches = int(np.ceil(len(train_tweets) / float(batch_size)))\n",
    "    for training_set_X, training_set_y in extract_features(train_tweets, test_file=False, feat_type=FEAT_TYPE, batch_size=batch_size):\n",
    "        utils.write_status(i, n_train_batches)\n",
    "        i += 1\n",
    "        if FEAT_TYPE == 'frequency':\n",
    "            tfidf = apply_tf_idf(training_set_X)\n",
    "            training_set_X = tfidf.transform(training_set_X)\n",
    "        clf.partial_fit(training_set_X, training_set_y, classes=[0, 1])\n",
    "    print ('\\n')\n",
    "    print ('Testing')\n",
    "    if TRAIN:\n",
    "        correct, total = 0, len(val_tweets)\n",
    "        i = 1\n",
    "        batch_size = len(val_tweets)\n",
    "        n_val_batches = int(np.ceil(len(val_tweets) / float(batch_size)))\n",
    "        for val_set_X, val_set_y in extract_features(val_tweets, test_file=False, feat_type=FEAT_TYPE, batch_size=batch_size):\n",
    "            if FEAT_TYPE == 'frequency':\n",
    "                val_set_X = tfidf.transform(val_set_X)\n",
    "            prediction = clf.predict(val_set_X)\n",
    "            correct += np.sum(prediction == val_set_y)\n",
    "            utils.write_status(i, n_val_batches)\n",
    "            i += 1\n",
    "        print ('\\nCorrect: %d/%d = %.4f %%' % (correct, total, correct * 100. / total))\n",
    "    else:\n",
    "        del train_tweets\n",
    "        test_tweets = process_tweets(TEST_PROCESSED_FILE, test_file=True)\n",
    "        n_test_batches = int(np.ceil(len(test_tweets) / float(batch_size)))\n",
    "        predictions = np.array([])\n",
    "        print ('Predicting batches')\n",
    "        i = 1\n",
    "        for test_set_X, _ in extract_features(test_tweets, test_file=True, feat_type=FEAT_TYPE):\n",
    "            if FEAT_TYPE == 'frequency':\n",
    "                test_set_X = tfidf.transform(test_set_X)\n",
    "            prediction = clf.predict(test_set_X)\n",
    "            predictions = np.concatenate((predictions, prediction))\n",
    "            utils.write_status(i, n_test_batches)\n",
    "            i += 1\n",
    "        predictions = [(str(j), int(predictions[j]))\n",
    "                       for j in range(len(test_tweets))]\n",
    "        utils.save_results_to_csv(predictions, 'naivebayes.csv')\n",
    "        print ('\\nSaved to naivebayes.csv')\n"
   ]
  },
  {
   "cell_type": "code",
   "execution_count": null,
   "id": "8c41f35f-e3c8-4d71-8021-44f6bf580d9e",
   "metadata": {},
   "outputs": [],
   "source": []
  }
 ],
 "metadata": {
  "kernelspec": {
   "display_name": "Python 3",
   "language": "python",
   "name": "python3"
  },
  "language_info": {
   "codemirror_mode": {
    "name": "ipython",
    "version": 3
   },
   "file_extension": ".py",
   "mimetype": "text/x-python",
   "name": "python",
   "nbconvert_exporter": "python",
   "pygments_lexer": "ipython3",
   "version": "3.8.8"
  }
 },
 "nbformat": 4,
 "nbformat_minor": 5
}
