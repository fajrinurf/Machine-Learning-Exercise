{
 "cells": [
  {
   "cell_type": "code",
   "execution_count": 39,
   "id": "b7c195d4-e3f9-4a4e-81c6-2a1d89937fcf",
   "metadata": {},
   "outputs": [],
   "source": [
    "import pandas as pd\n",
    "import numpy as np\n",
    "import seaborn as sns\n",
    "import matplotlib.pyplot as plt\n",
    "%matplotlib inline\n",
    "from sklearn.preprocessing import StandardScaler, normalize\n",
    "from sklearn.model_selection import train_test_split \n",
    "from sklearn.decomposition import PCA\n",
    "from sklearn.cluster import KMeans"
   ]
  },
  {
   "cell_type": "code",
   "execution_count": 9,
   "id": "45b66008-17d6-45b8-89f3-b8f69717d772",
   "metadata": {},
   "outputs": [],
   "source": [
    "# Read the data\n",
    "data = pd.read_csv('anime.csv')"
   ]
  },
  {
   "cell_type": "code",
   "execution_count": 10,
   "id": "2648d28d-ae60-4a8e-b3fa-f3600d8f458b",
   "metadata": {},
   "outputs": [
    {
     "data": {
      "text/html": [
       "<div>\n",
       "<style scoped>\n",
       "    .dataframe tbody tr th:only-of-type {\n",
       "        vertical-align: middle;\n",
       "    }\n",
       "\n",
       "    .dataframe tbody tr th {\n",
       "        vertical-align: top;\n",
       "    }\n",
       "\n",
       "    .dataframe thead th {\n",
       "        text-align: right;\n",
       "    }\n",
       "</style>\n",
       "<table border=\"1\" class=\"dataframe\">\n",
       "  <thead>\n",
       "    <tr style=\"text-align: right;\">\n",
       "      <th></th>\n",
       "      <th>Name of the anime</th>\n",
       "      <th>Rating</th>\n",
       "      <th>Ranking</th>\n",
       "      <th>Followers</th>\n",
       "      <th>Type</th>\n",
       "      <th>Episodes</th>\n",
       "      <th>License</th>\n",
       "      <th>Study</th>\n",
       "      <th>Genre</th>\n",
       "      <th>Demographics</th>\n",
       "      <th>Age</th>\n",
       "    </tr>\n",
       "  </thead>\n",
       "  <tbody>\n",
       "    <tr>\n",
       "      <th>0</th>\n",
       "      <td>Death Note</td>\n",
       "      <td>8.63</td>\n",
       "      <td>1</td>\n",
       "      <td>3,150,451</td>\n",
       "      <td>TV</td>\n",
       "      <td>37</td>\n",
       "      <td>VIZ Media</td>\n",
       "      <td>Madhouse</td>\n",
       "      <td>Mystery,Supernatural,Suspense</td>\n",
       "      <td>Shounen</td>\n",
       "      <td>R - 17+ (violence &amp; profanity)</td>\n",
       "    </tr>\n",
       "    <tr>\n",
       "      <th>1</th>\n",
       "      <td>Shingeki no Kyojin</td>\n",
       "      <td>8.52</td>\n",
       "      <td>2</td>\n",
       "      <td>3,136,959</td>\n",
       "      <td>TV</td>\n",
       "      <td>25</td>\n",
       "      <td>Funimation</td>\n",
       "      <td>Wit Studio</td>\n",
       "      <td>Action,Drama,Fantasy,Mystery</td>\n",
       "      <td>Shounen</td>\n",
       "      <td>R - 17+ (violence &amp; profanity)</td>\n",
       "    </tr>\n",
       "    <tr>\n",
       "      <th>2</th>\n",
       "      <td>Fullmetal Alchemist: Brotherhood</td>\n",
       "      <td>9.16</td>\n",
       "      <td>3</td>\n",
       "      <td>2,674,846</td>\n",
       "      <td>TV</td>\n",
       "      <td>64</td>\n",
       "      <td>Funimation,Aniplex of America</td>\n",
       "      <td>Bones</td>\n",
       "      <td>Action,Adventure,Comedy,Drama,Fantasy</td>\n",
       "      <td>Shounen</td>\n",
       "      <td>R - 17+ (violence &amp; profanity)</td>\n",
       "    </tr>\n",
       "    <tr>\n",
       "      <th>3</th>\n",
       "      <td>Sword Art Online</td>\n",
       "      <td>7.21</td>\n",
       "      <td>4</td>\n",
       "      <td>2,583,874</td>\n",
       "      <td>TV</td>\n",
       "      <td>25</td>\n",
       "      <td>Aniplex of America</td>\n",
       "      <td>A-1 Pictures</td>\n",
       "      <td>Action,Adventure,Fantasy,Romance</td>\n",
       "      <td>NaN</td>\n",
       "      <td>PG-13 - Teens 13 or older</td>\n",
       "    </tr>\n",
       "    <tr>\n",
       "      <th>4</th>\n",
       "      <td>One Punch Man</td>\n",
       "      <td>8.52</td>\n",
       "      <td>5</td>\n",
       "      <td>2,577,610</td>\n",
       "      <td>TV</td>\n",
       "      <td>12</td>\n",
       "      <td>VIZ Media</td>\n",
       "      <td>Madhouse</td>\n",
       "      <td>Action,Comedy,Sci-Fi,Supernatural</td>\n",
       "      <td>NaN</td>\n",
       "      <td>R - 17+ (violence &amp; profanity)</td>\n",
       "    </tr>\n",
       "  </tbody>\n",
       "</table>\n",
       "</div>"
      ],
      "text/plain": [
       "                  Name of the anime  Rating  Ranking  Followers Type Episodes  \\\n",
       "0                        Death Note    8.63        1  3,150,451   TV       37   \n",
       "1                Shingeki no Kyojin    8.52        2  3,136,959   TV       25   \n",
       "2  Fullmetal Alchemist: Brotherhood    9.16        3  2,674,846   TV       64   \n",
       "3                  Sword Art Online    7.21        4  2,583,874   TV       25   \n",
       "4                     One Punch Man    8.52        5  2,577,610   TV       12   \n",
       "\n",
       "                         License         Study  \\\n",
       "0                      VIZ Media      Madhouse   \n",
       "1                     Funimation    Wit Studio   \n",
       "2  Funimation,Aniplex of America         Bones   \n",
       "3             Aniplex of America  A-1 Pictures   \n",
       "4                      VIZ Media      Madhouse   \n",
       "\n",
       "                                   Genre Demographics  \\\n",
       "0          Mystery,Supernatural,Suspense      Shounen   \n",
       "1           Action,Drama,Fantasy,Mystery      Shounen   \n",
       "2  Action,Adventure,Comedy,Drama,Fantasy      Shounen   \n",
       "3       Action,Adventure,Fantasy,Romance          NaN   \n",
       "4      Action,Comedy,Sci-Fi,Supernatural          NaN   \n",
       "\n",
       "                              Age  \n",
       "0  R - 17+ (violence & profanity)  \n",
       "1  R - 17+ (violence & profanity)  \n",
       "2  R - 17+ (violence & profanity)  \n",
       "3       PG-13 - Teens 13 or older  \n",
       "4  R - 17+ (violence & profanity)  "
      ]
     },
     "execution_count": 10,
     "metadata": {},
     "output_type": "execute_result"
    }
   ],
   "source": [
    "data.head()"
   ]
  },
  {
   "cell_type": "code",
   "execution_count": 11,
   "id": "6726e420-5d60-4402-a6de-5dcd390ff6a9",
   "metadata": {},
   "outputs": [
    {
     "data": {
      "text/plain": [
       "Name of the anime       0\n",
       "Rating                 21\n",
       "Ranking                 0\n",
       "Followers               0\n",
       "Type                    0\n",
       "Episodes                0\n",
       "License                 0\n",
       "Study                   0\n",
       "Genre                 168\n",
       "Demographics         1116\n",
       "Age                     0\n",
       "dtype: int64"
      ]
     },
     "execution_count": 11,
     "metadata": {},
     "output_type": "execute_result"
    }
   ],
   "source": [
    "data.isnull().sum()"
   ]
  },
  {
   "cell_type": "code",
   "execution_count": 12,
   "id": "6ce324a2-7905-438d-b465-81c2d3518c27",
   "metadata": {},
   "outputs": [
    {
     "name": "stdout",
     "output_type": "stream",
     "text": [
      "<class 'pandas.core.frame.DataFrame'>\n",
      "RangeIndex: 2000 entries, 0 to 1999\n",
      "Data columns (total 11 columns):\n",
      " #   Column             Non-Null Count  Dtype  \n",
      "---  ------             --------------  -----  \n",
      " 0   Name of the anime  2000 non-null   object \n",
      " 1   Rating             1979 non-null   float64\n",
      " 2   Ranking            2000 non-null   int64  \n",
      " 3   Followers          2000 non-null   object \n",
      " 4   Type               2000 non-null   object \n",
      " 5   Episodes           2000 non-null   object \n",
      " 6   License            2000 non-null   object \n",
      " 7   Study              2000 non-null   object \n",
      " 8   Genre              1832 non-null   object \n",
      " 9   Demographics       884 non-null    object \n",
      " 10  Age                2000 non-null   object \n",
      "dtypes: float64(1), int64(1), object(9)\n",
      "memory usage: 172.0+ KB\n"
     ]
    }
   ],
   "source": [
    "data.info()"
   ]
  },
  {
   "cell_type": "code",
   "execution_count": 40,
   "id": "a70dd905-71f5-4467-ba13-572c50e96e5b",
   "metadata": {},
   "outputs": [],
   "source": [
    "data[data == 'Unknown'] = np.nan"
   ]
  },
  {
   "cell_type": "code",
   "execution_count": 45,
   "id": "955b312a-c185-4313-af52-c175fb36c0f3",
   "metadata": {},
   "outputs": [],
   "source": [
    "newdata = data.drop({'Name of the anime','Genre','Demographics','Followers','Age','License','Study'},axis=1)"
   ]
  },
  {
   "cell_type": "code",
   "execution_count": 49,
   "id": "19699f17-0901-406a-a9c0-001cc8499e9a",
   "metadata": {},
   "outputs": [
    {
     "data": {
      "text/plain": [
       "Rating      21\n",
       "Ranking      0\n",
       "Type         1\n",
       "Episodes    25\n",
       "dtype: int64"
      ]
     },
     "execution_count": 49,
     "metadata": {},
     "output_type": "execute_result"
    }
   ],
   "source": [
    "newdata.isnull().sum()"
   ]
  },
  {
   "cell_type": "code",
   "execution_count": 53,
   "id": "93af5ca5-b638-474c-abaf-3c370bd652ad",
   "metadata": {},
   "outputs": [],
   "source": [
    "final = newdata.dropna()"
   ]
  },
  {
   "cell_type": "code",
   "execution_count": 59,
   "id": "59d54dc8-658e-49ec-ac41-acfc7f415d1b",
   "metadata": {},
   "outputs": [
    {
     "data": {
      "text/plain": [
       "array(['TV', 'Movie', 'ONA', 'OVA', 'Special', 'Music'], dtype=object)"
      ]
     },
     "execution_count": 59,
     "metadata": {},
     "output_type": "execute_result"
    }
   ],
   "source": [
    "cek = final.Type\n",
    "cek.unique()"
   ]
  },
  {
   "cell_type": "code",
   "execution_count": 54,
   "id": "76c34212-f286-4dea-b2be-ab69afa5002c",
   "metadata": {},
   "outputs": [
    {
     "data": {
      "text/plain": [
       "((1577, 3), (395, 3), (1577,), (395,))"
      ]
     },
     "execution_count": 54,
     "metadata": {},
     "output_type": "execute_result"
    }
   ],
   "source": [
    "X = final.drop(columns={'Type'})\n",
    "y = final.Type\n",
    "\n",
    "X_train, X_test, y_train, y_test = train_test_split(X, y, test_size=0.2, random_state=42)\n",
    "X_train.shape, X_test.shape, y_train.shape, y_test.shape"
   ]
  },
  {
   "cell_type": "code",
   "execution_count": 55,
   "id": "475e581b-0367-4117-a152-e926fefe2d1b",
   "metadata": {},
   "outputs": [
    {
     "data": {
      "text/plain": [
       "<bound method NDFrame.head of             P1        P2\n",
       "0    -1.728196  0.561249\n",
       "1    -1.726337  0.104080\n",
       "2    -1.725020  1.590891\n",
       "3    -1.722872  0.104472\n",
       "4    -1.721003 -0.390733\n",
       "...        ...       ...\n",
       "1967  1.727107  0.074566\n",
       "1968  1.728839  0.074837\n",
       "1969  1.730635 -0.153717\n",
       "1970  1.732419 -0.343942\n",
       "1971  1.733916  0.494904\n",
       "\n",
       "[1972 rows x 2 columns]>"
      ]
     },
     "execution_count": 55,
     "metadata": {},
     "output_type": "execute_result"
    }
   ],
   "source": [
    "pca = PCA(n_components=2, whiten=True)\n",
    "X_pca = pca.fit_transform(X)\n",
    "X_pca = pd.DataFrame(X_pca)\n",
    "X_pca.columns = ['P1', 'P2']\n",
    "X_pca.head"
   ]
  },
  {
   "cell_type": "code",
   "execution_count": 56,
   "id": "ba4c575c-330e-4446-b2ed-4464e0d4a5bf",
   "metadata": {},
   "outputs": [
    {
     "name": "stderr",
     "output_type": "stream",
     "text": [
      "C:\\Users\\Fajri\\anaconda3\\lib\\site-packages\\sklearn\\cluster\\_kmeans.py:881: UserWarning: KMeans is known to have a memory leak on Windows with MKL, when there are less chunks than available threads. You can avoid it by setting the environment variable OMP_NUM_THREADS=8.\n",
      "  warnings.warn(\n"
     ]
    }
   ],
   "source": [
    "clusters = []\n",
    "for i in range(1, 30):\n",
    "    km = KMeans(n_clusters=i).fit(X_pca)\n",
    "    clusters.append(km.inertia_)"
   ]
  },
  {
   "cell_type": "code",
   "execution_count": 57,
   "id": "63134eb6-a960-4e5a-a883-ea9844958d73",
   "metadata": {},
   "outputs": [
    {
     "data": {
      "text/plain": [
       "Text(0, 0.5, 'Inertia')"
      ]
     },
     "execution_count": 57,
     "metadata": {},
     "output_type": "execute_result"
    },
    {
     "data": {
      "image/png": "[encoded data removed]",
      "text/plain": [
       "<Figure size 576x288 with 1 Axes>"
      ]
     },
     "metadata": {
      "needs_background": "light"
     },
     "output_type": "display_data"
    }
   ],
   "source": [
    "fig, ax = plt.subplots(figsize=(8, 4))\n",
    "sns.lineplot(x=list(range(1, 30)), y=clusters, ax=ax)\n",
    "ax.set_title('Cari Elbow')\n",
    "ax.set_xlabel('Clusters')\n",
    "ax.set_ylabel('Inertia')"
   ]
  },
  {
   "cell_type": "code",
   "execution_count": 60,
   "id": "667e6b3f-51e9-4ebc-a922-fe68a267a4a2",
   "metadata": {},
   "outputs": [
    {
     "name": "stderr",
     "output_type": "stream",
     "text": [
      "C:\\Users\\Fajri\\anaconda3\\lib\\site-packages\\seaborn\\_decorators.py:36: FutureWarning: Pass the following variables as keyword args: x, y. From version 0.12, the only valid positional argument will be `data`, and passing other arguments without an explicit keyword will result in an error or misinterpretation.\n",
      "  warnings.warn(\n"
     ]
    },
    {
     "data": {
      "image/png": "[encoded data removed]",
      "text/plain": [
       "<Figure size 576x576 with 1 Axes>"
      ]
     },
     "metadata": {
      "needs_background": "light"
     },
     "output_type": "display_data"
    }
   ],
   "source": [
    "km5 = KMeans(n_clusters=6).fit(X_pca)\n",
    "\n",
    "X = km5.labels_\n",
    " \n",
    "plt.figure(figsize=(8,8))\n",
    "sns.scatterplot(X_pca['P1'], X_pca['P2'], hue=X,\n",
    "                palette=sns.color_palette('hls', 6))\n",
    "plt.show()"
   ]
  },
  {
   "cell_type": "code",
   "execution_count": null,
   "id": "b54c983e-cc0a-4d5b-b894-9a7b1e5458da",
   "metadata": {},
   "outputs": [],
   "source": []
  }
 ],
 "metadata": {
  "kernelspec": {
   "display_name": "Python 3",
   "language": "python",
   "name": "python3"
  },
  "language_info": {
   "codemirror_mode": {
    "name": "ipython",
    "version": 3
   },
   "file_extension": ".py",
   "mimetype": "text/x-python",
   "name": "python",
   "nbconvert_exporter": "python",
   "pygments_lexer": "ipython3",
   "version": "3.8.8"
  }
 },
 "nbformat": 4,
 "nbformat_minor": 5
}
