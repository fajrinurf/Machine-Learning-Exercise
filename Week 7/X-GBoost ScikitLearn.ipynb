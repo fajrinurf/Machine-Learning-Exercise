{
 "cells": [
  {
   "cell_type": "code",
   "execution_count": 1,
   "id": "3c025fcd-e66f-4562-8fae-bb6423abcb24",
   "metadata": {},
   "outputs": [],
   "source": [
    "import numpy as np\n",
    "\n",
    "from scipy.stats import uniform, randint\n",
    "\n",
    "from sklearn.datasets import load_breast_cancer, load_diabetes, load_wine\n",
    "from sklearn.metrics import auc, accuracy_score, confusion_matrix, mean_squared_error\n",
    "from sklearn.model_selection import cross_val_score, GridSearchCV, KFold, RandomizedSearchCV, train_test_split\n",
    "\n",
    "import xgboost as xgb"
   ]
  },
  {
   "cell_type": "code",
   "execution_count": 2,
   "id": "9f0c3a46-a889-4ef7-8af8-c9dbeea1643d",
   "metadata": {},
   "outputs": [],
   "source": [
    "def display_scores(scores):\n",
    "    print(\"Scores: {0}\\nMean: {1:.3f}\\nStd: {2:.3f}\".format(scores, np.mean(scores), np.std(scores)))"
   ]
  },
  {
   "cell_type": "code",
   "execution_count": 3,
   "id": "3d50fb34-3c77-4991-879b-6df2b60c60a0",
   "metadata": {},
   "outputs": [],
   "source": [
    "def report_best_scores(results, n_top=3):\n",
    "    for i in range(1, n_top + 1):\n",
    "        candidates = np.flatnonzero(results['rank_test_score'] == i)\n",
    "        for candidate in candidates:\n",
    "            print(\"Model with rank: {0}\".format(i))\n",
    "            print(\"Mean validation score: {0:.3f} (std: {1:.3f})\".format(\n",
    "                  results['mean_test_score'][candidate],\n",
    "                  results['std_test_score'][candidate]))\n",
    "            print(\"Parameters: {0}\".format(results['params'][candidate]))\n",
    "            print(\"\")"
   ]
  },
  {
   "cell_type": "markdown",
   "id": "334b37e6-fa65-4bc7-9d27-5b6808194a75",
   "metadata": {},
   "source": [
    "# Regresion"
   ]
  },
  {
   "cell_type": "code",
   "execution_count": 4,
   "id": "d8d63e39-971d-4f30-a4e3-9dbc620a62c5",
   "metadata": {},
   "outputs": [
    {
     "name": "stdout",
     "output_type": "stream",
     "text": [
      "[02:32:23] WARNING: c:\\ci\\xgboost-split_1619728435298\\work\\src\\objective\\regression_obj.cu:170: reg:linear is now deprecated in favor of reg:squarederror.\n",
      "0.2401475171547707\n"
     ]
    }
   ],
   "source": [
    "diabetes = load_diabetes()\n",
    "\n",
    "X = diabetes.data\n",
    "y = diabetes.target\n",
    "\n",
    "xgb_model = xgb.XGBRegressor(objective=\"reg:linear\", random_state=42)\n",
    "\n",
    "xgb_model.fit(X, y)\n",
    "\n",
    "y_pred = xgb_model.predict(X)\n",
    "\n",
    "mse=mean_squared_error(y, y_pred)\n",
    "\n",
    "print(np.sqrt(mse))"
   ]
  },
  {
   "cell_type": "code",
   "execution_count": 5,
   "id": "8da9e81b-7dfb-4dd4-9a31-815d4d28bbaa",
   "metadata": {},
   "outputs": [
    {
     "data": {
      "text/plain": [
       "XGBRegressor(base_score=0.5, booster='gbtree', colsample_bylevel=1,\n",
       "             colsample_bynode=1, colsample_bytree=1, gamma=0, gpu_id=-1,\n",
       "             importance_type='gain', interaction_constraints='',\n",
       "             learning_rate=0.300000012, max_delta_step=0, max_depth=6,\n",
       "             min_child_weight=1, missing=nan, monotone_constraints='()',\n",
       "             n_estimators=100, n_jobs=12, num_parallel_tree=1,\n",
       "             objective='reg:linear', random_state=42, reg_alpha=0, reg_lambda=1,\n",
       "             scale_pos_weight=1, subsample=1, tree_method='exact',\n",
       "             validate_parameters=1, verbosity=None)"
      ]
     },
     "execution_count": 5,
     "metadata": {},
     "output_type": "execute_result"
    }
   ],
   "source": [
    "xgb_model"
   ]
  },
  {
   "cell_type": "markdown",
   "id": "a6ef20bb-2a3c-4e13-b50d-9a33bcb1e68c",
   "metadata": {},
   "source": [
    "# Binary Classification"
   ]
  },
  {
   "cell_type": "code",
   "execution_count": 6,
   "id": "d569a4e3-7cc6-442c-89f9-e19d65cf0afc",
   "metadata": {},
   "outputs": [
    {
     "name": "stdout",
     "output_type": "stream",
     "text": [
      "[02:32:57] WARNING: ..\\src\\learner.cc:1061: Starting in XGBoost 1.3.0, the default evaluation metric used with the objective 'binary:logistic' was changed from 'error' to 'logloss'. Explicitly set eval_metric if you'd like to restore the old behavior.\n",
      "[[212   0]\n",
      " [  0 357]]\n"
     ]
    },
    {
     "name": "stderr",
     "output_type": "stream",
     "text": [
      "C:\\Users\\Fajri\\anaconda3\\lib\\site-packages\\xgboost\\sklearn.py:888: UserWarning: The use of label encoder in XGBClassifier is deprecated and will be removed in a future release. To remove this warning, do the following: 1) Pass option use_label_encoder=False when constructing XGBClassifier object; and 2) Encode your labels (y) as integers starting with 0, i.e. 0, 1, 2, ..., [num_class - 1].\n",
      "  warnings.warn(label_encoder_deprecation_msg, UserWarning)\n"
     ]
    }
   ],
   "source": [
    "cancer = load_breast_cancer()\n",
    "\n",
    "X = cancer.data\n",
    "y = cancer.target\n",
    "\n",
    "xgb_model = xgb.XGBClassifier(objective=\"binary:logistic\", random_state=42)\n",
    "xgb_model.fit(X, y)\n",
    "\n",
    "y_pred = xgb_model.predict(X)\n",
    "\n",
    "print(confusion_matrix(y, y_pred))"
   ]
  },
  {
   "cell_type": "markdown",
   "id": "8de55381-c14a-4cec-bdfd-ca3448bffea5",
   "metadata": {},
   "source": [
    "# Multiclass classification"
   ]
  },
  {
   "cell_type": "code",
   "execution_count": 7,
   "id": "2260960f-4fdb-477e-b93c-dbc8d845794e",
   "metadata": {},
   "outputs": [
    {
     "name": "stdout",
     "output_type": "stream",
     "text": [
      "[02:33:22] WARNING: ..\\src\\learner.cc:1061: Starting in XGBoost 1.3.0, the default evaluation metric used with the objective 'multi:softprob' was changed from 'merror' to 'mlogloss'. Explicitly set eval_metric if you'd like to restore the old behavior.\n",
      "[[59  0  0]\n",
      " [ 0 71  0]\n",
      " [ 0  0 48]]\n"
     ]
    },
    {
     "name": "stderr",
     "output_type": "stream",
     "text": [
      "C:\\Users\\Fajri\\anaconda3\\lib\\site-packages\\xgboost\\sklearn.py:888: UserWarning: The use of label encoder in XGBClassifier is deprecated and will be removed in a future release. To remove this warning, do the following: 1) Pass option use_label_encoder=False when constructing XGBClassifier object; and 2) Encode your labels (y) as integers starting with 0, i.e. 0, 1, 2, ..., [num_class - 1].\n",
      "  warnings.warn(label_encoder_deprecation_msg, UserWarning)\n"
     ]
    }
   ],
   "source": [
    "wine = load_wine()\n",
    "\n",
    "X = wine.data\n",
    "y = wine.target\n",
    "\n",
    "xgb_model = xgb.XGBClassifier(objective=\"multi:softprob\", random_state=42)\n",
    "xgb_model.fit(X, y)\n",
    "\n",
    "y_pred = xgb_model.predict(X)\n",
    "\n",
    "print(confusion_matrix(y, y_pred))"
   ]
  },
  {
   "cell_type": "markdown",
   "id": "e0ee7967-69d7-427f-b934-339b70d4868e",
   "metadata": {},
   "source": [
    "# Cross validation"
   ]
  },
  {
   "cell_type": "code",
   "execution_count": 8,
   "id": "87e27246-94f1-43e1-b0d2-ba37ef26aadf",
   "metadata": {},
   "outputs": [
    {
     "name": "stdout",
     "output_type": "stream",
     "text": [
      "[02:33:43] WARNING: c:\\ci\\xgboost-split_1619728435298\\work\\src\\objective\\regression_obj.cu:170: reg:linear is now deprecated in favor of reg:squarederror.\n",
      "[02:33:43] WARNING: c:\\ci\\xgboost-split_1619728435298\\work\\src\\objective\\regression_obj.cu:170: reg:linear is now deprecated in favor of reg:squarederror.\n",
      "[02:33:43] WARNING: c:\\ci\\xgboost-split_1619728435298\\work\\src\\objective\\regression_obj.cu:170: reg:linear is now deprecated in favor of reg:squarederror.\n",
      "[02:33:44] WARNING: c:\\ci\\xgboost-split_1619728435298\\work\\src\\objective\\regression_obj.cu:170: reg:linear is now deprecated in favor of reg:squarederror.\n",
      "[02:33:44] WARNING: c:\\ci\\xgboost-split_1619728435298\\work\\src\\objective\\regression_obj.cu:170: reg:linear is now deprecated in favor of reg:squarederror.\n",
      "Scores: [63.94113133 61.42459265 67.48347385 69.49735119 59.90352074]\n",
      "Mean: 64.450\n",
      "Std: 3.599\n"
     ]
    }
   ],
   "source": [
    "diabetes = load_diabetes()\n",
    "\n",
    "X = diabetes.data\n",
    "y = diabetes.target\n",
    "\n",
    "kfold = KFold(n_splits=5, shuffle=True, random_state=42)\n",
    "\n",
    "scores = []\n",
    "\n",
    "for train_index, test_index in kfold.split(X):   \n",
    "    X_train, X_test = X[train_index], X[test_index]\n",
    "    y_train, y_test = y[train_index], y[test_index]\n",
    "\n",
    "    xgb_model = xgb.XGBRegressor(objective=\"reg:linear\")\n",
    "    xgb_model.fit(X_train, y_train)\n",
    "    \n",
    "    y_pred = xgb_model.predict(X_test)\n",
    "    \n",
    "    scores.append(mean_squared_error(y_test, y_pred))\n",
    "    \n",
    "display_scores(np.sqrt(scores))"
   ]
  },
  {
   "cell_type": "code",
   "execution_count": 9,
   "id": "ab8bfc9b-ec62-4a39-b319-5812aeb83cc1",
   "metadata": {},
   "outputs": [
    {
     "name": "stdout",
     "output_type": "stream",
     "text": [
      "[02:33:51] WARNING: c:\\ci\\xgboost-split_1619728435298\\work\\src\\objective\\regression_obj.cu:170: reg:linear is now deprecated in favor of reg:squarederror.\n",
      "[02:33:52] WARNING: c:\\ci\\xgboost-split_1619728435298\\work\\src\\objective\\regression_obj.cu:170: reg:linear is now deprecated in favor of reg:squarederror.\n",
      "[02:33:52] WARNING: c:\\ci\\xgboost-split_1619728435298\\work\\src\\objective\\regression_obj.cu:170: reg:linear is now deprecated in favor of reg:squarederror.\n",
      "[02:33:52] WARNING: c:\\ci\\xgboost-split_1619728435298\\work\\src\\objective\\regression_obj.cu:170: reg:linear is now deprecated in favor of reg:squarederror.\n",
      "[02:33:52] WARNING: c:\\ci\\xgboost-split_1619728435298\\work\\src\\objective\\regression_obj.cu:170: reg:linear is now deprecated in favor of reg:squarederror.\n",
      "Scores: [62.80101886 65.82933114 62.19849188 66.40701402 67.29879575]\n",
      "Mean: 64.907\n",
      "Std: 2.029\n"
     ]
    }
   ],
   "source": [
    "xgb_model = xgb.XGBRegressor(objective=\"reg:linear\", random_state=42)\n",
    "\n",
    "scores = cross_val_score(xgb_model, X, y, scoring=\"neg_mean_squared_error\", cv=5)\n",
    "\n",
    "display_scores(np.sqrt(-scores))"
   ]
  },
  {
   "cell_type": "markdown",
   "id": "25dcbf70-6989-4efa-9d31-bc1e61d4616a",
   "metadata": {},
   "source": [
    "# Hyperparameter Seacrhing"
   ]
  },
  {
   "cell_type": "code",
   "execution_count": 10,
   "id": "e7a2b722-02c6-4f9a-a68e-f2eec2f89b79",
   "metadata": {},
   "outputs": [
    {
     "name": "stdout",
     "output_type": "stream",
     "text": [
      "Fitting 3 folds for each of 200 candidates, totalling 600 fits\n",
      "Model with rank: 1\n",
      "Mean validation score: 0.464 (std: 0.009)\n",
      "Parameters: {'colsample_bytree': 0.7516959613604889, 'gamma': 0.09614450940433539, 'learning_rate': 0.042260584879943656, 'max_depth': 2, 'n_estimators': 117, 'subsample': 0.7114361356127834}\n",
      "\n"
     ]
    }
   ],
   "source": [
    "diabetes = load_diabetes()\n",
    "\n",
    "X = diabetes.data\n",
    "y = diabetes.target\n",
    "\n",
    "xgb_model = xgb.XGBRegressor()\n",
    "\n",
    "params = {\n",
    "    \"colsample_bytree\": uniform(0.7, 0.3),\n",
    "    \"gamma\": uniform(0, 0.5),\n",
    "    \"learning_rate\": uniform(0.03, 0.3), # default 0.1 \n",
    "    \"max_depth\": randint(2, 6), # default 3\n",
    "    \"n_estimators\": randint(100, 150), # default 100\n",
    "    \"subsample\": uniform(0.6, 0.4)\n",
    "}\n",
    "\n",
    "search = RandomizedSearchCV(xgb_model, param_distributions=params, random_state=42, n_iter=200, cv=3, verbose=1, n_jobs=1, return_train_score=True)\n",
    "\n",
    "search.fit(X, y)\n",
    "\n",
    "report_best_scores(search.cv_results_, 1)"
   ]
  },
  {
   "cell_type": "markdown",
   "id": "75d32941-f7f5-49bd-b506-9aa043dbfab3",
   "metadata": {},
   "source": [
    "# Early Stopping"
   ]
  },
  {
   "cell_type": "code",
   "execution_count": 12,
   "id": "2aacc3c0-ac61-4c94-a860-648a960059ec",
   "metadata": {},
   "outputs": [
    {
     "name": "stdout",
     "output_type": "stream",
     "text": [
      "[0]\tvalidation_0-auc:0.96348\n",
      "[1]\tvalidation_0-auc:0.97201\n",
      "[2]\tvalidation_0-auc:0.97035\n",
      "[3]\tvalidation_0-auc:0.97930\n",
      "[4]\tvalidation_0-auc:0.97857\n",
      "[5]\tvalidation_0-auc:0.97784\n",
      "[6]\tvalidation_0-auc:0.98408\n",
      "[7]\tvalidation_0-auc:0.98450\n",
      "[8]\tvalidation_0-auc:0.98616\n",
      "[9]\tvalidation_0-auc:0.99105\n",
      "[10]\tvalidation_0-auc:0.99126\n",
      "[11]\tvalidation_0-auc:0.99064\n",
      "[12]\tvalidation_0-auc:0.99147\n",
      "[13]\tvalidation_0-auc:0.99209\n",
      "[14]\tvalidation_0-auc:0.99209\n",
      "[15]\tvalidation_0-auc:0.99147\n",
      "[16]\tvalidation_0-auc:0.99168\n",
      "[17]\tvalidation_0-auc:0.99126\n"
     ]
    },
    {
     "name": "stderr",
     "output_type": "stream",
     "text": [
      "C:\\Users\\Fajri\\anaconda3\\lib\\site-packages\\xgboost\\sklearn.py:888: UserWarning: The use of label encoder in XGBClassifier is deprecated and will be removed in a future release. To remove this warning, do the following: 1) Pass option use_label_encoder=False when constructing XGBClassifier object; and 2) Encode your labels (y) as integers starting with 0, i.e. 0, 1, 2, ..., [num_class - 1].\n",
      "  warnings.warn(label_encoder_deprecation_msg, UserWarning)\n"
     ]
    },
    {
     "data": {
      "text/plain": [
       "0.958041958041958"
      ]
     },
     "execution_count": 12,
     "metadata": {},
     "output_type": "execute_result"
    }
   ],
   "source": [
    "cancer = load_breast_cancer()\n",
    "\n",
    "X = cancer.data\n",
    "y = cancer.target\n",
    "\n",
    "# if more than one evaluation metric are given the last one is used for early stopping\n",
    "xgb_model = xgb.XGBClassifier(objective=\"binary:logistic\", random_state=42, eval_metric=\"auc\")\n",
    "\n",
    "X_train, X_test, y_train, y_test = train_test_split(X, y, random_state=42)\n",
    "\n",
    "xgb_model.fit(X_train, y_train, early_stopping_rounds=5, eval_set=[(X_test, y_test)])\n",
    "\n",
    "y_pred = xgb_model.predict(X_test)\n",
    "\n",
    "accuracy_score(y_test, y_pred)"
   ]
  },
  {
   "cell_type": "code",
   "execution_count": 13,
   "id": "8e531fd1-17f5-47f7-94d0-85e15b70ab47",
   "metadata": {},
   "outputs": [
    {
     "name": "stdout",
     "output_type": "stream",
     "text": [
      "best score: 0.992093, best iteration: 13, best ntree limit 14\n"
     ]
    }
   ],
   "source": [
    "print(\"best score: {0}, best iteration: {1}, best ntree limit {2}\".format(xgb_model.best_score, xgb_model.best_iteration, xgb_model.best_ntree_limit))"
   ]
  },
  {
   "cell_type": "markdown",
   "id": "c5355d11-baf5-4a09-834e-466b0c9fad22",
   "metadata": {},
   "source": [
    "# Evaluation"
   ]
  },
  {
   "cell_type": "code",
   "execution_count": 14,
   "id": "8115e442-5402-4fc7-aeca-c6b1cc43e173",
   "metadata": {},
   "outputs": [
    {
     "name": "stdout",
     "output_type": "stream",
     "text": [
      "[0]\tvalidation_0-auc:0.96348\tvalidation_0-error:0.04895\tvalidation_0-error@0.6:0.07692\n",
      "[1]\tvalidation_0-auc:0.97201\tvalidation_0-error:0.04895\tvalidation_0-error@0.6:0.06294\n",
      "[2]\tvalidation_0-auc:0.97035\tvalidation_0-error:0.04196\tvalidation_0-error@0.6:0.05594\n",
      "[3]\tvalidation_0-auc:0.97930\tvalidation_0-error:0.04196\tvalidation_0-error@0.6:0.06294\n",
      "[4]\tvalidation_0-auc:0.97857\tvalidation_0-error:0.03497\tvalidation_0-error@0.6:0.04895\n",
      "[5]\tvalidation_0-auc:0.97784\tvalidation_0-error:0.04196\tvalidation_0-error@0.6:0.04196\n",
      "[6]\tvalidation_0-auc:0.98408\tvalidation_0-error:0.03497\tvalidation_0-error@0.6:0.04895\n",
      "[7]\tvalidation_0-auc:0.98450\tvalidation_0-error:0.04895\tvalidation_0-error@0.6:0.04196\n",
      "[8]\tvalidation_0-auc:0.98616\tvalidation_0-error:0.04895\tvalidation_0-error@0.6:0.04895\n",
      "[9]\tvalidation_0-auc:0.99105\tvalidation_0-error:0.04895\tvalidation_0-error@0.6:0.04196\n",
      "[10]\tvalidation_0-auc:0.99126\tvalidation_0-error:0.04895\tvalidation_0-error@0.6:0.04196\n",
      "[11]\tvalidation_0-auc:0.99064\tvalidation_0-error:0.04196\tvalidation_0-error@0.6:0.04196\n",
      "[12]\tvalidation_0-auc:0.99147\tvalidation_0-error:0.03497\tvalidation_0-error@0.6:0.04196\n",
      "[13]\tvalidation_0-auc:0.99209\tvalidation_0-error:0.04196\tvalidation_0-error@0.6:0.04196\n",
      "[14]\tvalidation_0-auc:0.99209\tvalidation_0-error:0.04196\tvalidation_0-error@0.6:0.03497\n",
      "[15]\tvalidation_0-auc:0.99147\tvalidation_0-error:0.04196\tvalidation_0-error@0.6:0.03497\n",
      "[16]\tvalidation_0-auc:0.99168\tvalidation_0-error:0.04196\tvalidation_0-error@0.6:0.03497\n",
      "[17]\tvalidation_0-auc:0.99126\tvalidation_0-error:0.04196\tvalidation_0-error@0.6:0.03497\n",
      "[18]\tvalidation_0-auc:0.99189\tvalidation_0-error:0.04196\tvalidation_0-error@0.6:0.03497\n",
      "[19]\tvalidation_0-auc:0.99168\tvalidation_0-error:0.04196\tvalidation_0-error@0.6:0.04196\n"
     ]
    },
    {
     "name": "stderr",
     "output_type": "stream",
     "text": [
      "C:\\Users\\Fajri\\anaconda3\\lib\\site-packages\\xgboost\\sklearn.py:888: UserWarning: The use of label encoder in XGBClassifier is deprecated and will be removed in a future release. To remove this warning, do the following: 1) Pass option use_label_encoder=False when constructing XGBClassifier object; and 2) Encode your labels (y) as integers starting with 0, i.e. 0, 1, 2, ..., [num_class - 1].\n",
      "  warnings.warn(label_encoder_deprecation_msg, UserWarning)\n"
     ]
    }
   ],
   "source": [
    "cancer = load_breast_cancer()\n",
    "\n",
    "X = cancer.data\n",
    "y = cancer.target\n",
    "\n",
    "xgb_model = xgb.XGBClassifier(objective=\"binary:logistic\", n_estimators=20, random_state=42, eval_metric=[\"auc\", \"error\", \"error@0.6\"])\n",
    "\n",
    "X_train, X_test, y_train, y_test = train_test_split(X, y, random_state=42)\n",
    "\n",
    "xgb_model.fit(X_train, y_train, eval_set=[(X_test, y_test)])\n",
    "\n",
    "y_pred = xgb_model.predict(X_test)"
   ]
  },
  {
   "cell_type": "markdown",
   "id": "4e34231f-fbad-49da-abe8-39adf64411f5",
   "metadata": {},
   "source": [
    "# Plotiing"
   ]
  },
  {
   "cell_type": "code",
   "execution_count": 17,
   "id": "024cee4d-8f16-4052-964c-7d87468d3d90",
   "metadata": {},
   "outputs": [
    {
     "data": {
      "text/plain": [
       "<AxesSubplot:title={'center':'Feature importance'}, xlabel='F score', ylabel='Features'>"
      ]
     },
     "execution_count": 17,
     "metadata": {},
     "output_type": "execute_result"
    },
    {
     "data": {
      "image/png": "[encoded data removed]",
      "text/plain": [
       "<Figure size 432x288 with 1 Axes>"
      ]
     },
     "metadata": {
      "needs_background": "light"
     },
     "output_type": "display_data"
    }
   ],
   "source": [
    "# requires graphviz and python-graphviz conda packages\n",
    "#import graphviz\n",
    "\n",
    "cancer = load_breast_cancer()\n",
    "\n",
    "X = cancer.data\n",
    "y = cancer.target\n",
    "\n",
    "xgb_model = xgb.XGBClassifier(objective=\"binary:logistic\", random_state=42, eval_metric=\"auc\")\n",
    "\n",
    "X_train, X_test, y_train, y_test = train_test_split(X, y, random_state=42)\n",
    "\n",
    "xgb_model.fit(X_train, y_train, early_stopping_rounds=10, eval_set=[(X_test, y_test)], verbose=False)\n",
    "\n",
    "xgb.plot_importance(xgb_model)\n",
    "\n",
    "# plot the output tree via matplotlib, specifying the ordinal number of the target tree\n",
    "# xgb.plot_tree(xgb_model, num_trees=xgb_model.best_iteration)\n",
    "\n",
    "# converts the target tree to a graphviz instance\n",
    "# xgb.to_graphviz(xgb_model, num_trees=xgb_model.best_iteration)"
   ]
  },
  {
   "cell_type": "code",
   "execution_count": null,
   "id": "e95388b2-5a74-4f6f-b5d6-f60214eb8b27",
   "metadata": {},
   "outputs": [],
   "source": []
  }
 ],
 "metadata": {
  "kernelspec": {
   "display_name": "Python 3",
   "language": "python",
   "name": "python3"
  },
  "language_info": {
   "codemirror_mode": {
    "name": "ipython",
    "version": 3
   },
   "file_extension": ".py",
   "mimetype": "text/x-python",
   "name": "python",
   "nbconvert_exporter": "python",
   "pygments_lexer": "ipython3",
   "version": "3.8.8"
  }
 },
 "nbformat": 4,
 "nbformat_minor": 5
}
